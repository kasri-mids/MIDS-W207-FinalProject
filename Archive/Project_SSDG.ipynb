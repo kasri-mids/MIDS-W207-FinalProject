{
 "cells": [
  {
   "cell_type": "code",
   "execution_count": 108,
   "metadata": {},
   "outputs": [],
   "source": [
    "import pandas as pd \n",
    "import numpy as np\n",
    "from sklearn.neighbors import KNeighborsClassifier\n",
    "from sklearn.metrics import classification_report\n",
    "from sklearn.naive_bayes import BernoulliNB\n",
    "from sklearn.naive_bayes import MultinomialNB\n",
    "from sklearn.model_selection import GridSearchCV\n",
    "from sklearn.linear_model import LogisticRegression\n",
    "import warnings\n",
    "from sklearn import metrics\n",
    "from sklearn.preprocessing import MinMaxScaler\n",
    "from sklearn.decomposition import PCA\n",
    "from sklearn.ensemble import RandomForestClassifier"
   ]
  },
  {
   "cell_type": "code",
   "execution_count": 122,
   "metadata": {},
   "outputs": [
    {
     "name": "stdout",
     "output_type": "stream",
     "text": [
      "                Id     Elevation        Aspect         Slope  \\\n",
      "count  15120.00000  15120.000000  15120.000000  15120.000000   \n",
      "mean    7560.50000   2749.322553    156.676653     16.501587   \n",
      "std     4364.91237    417.678187    110.085801      8.453927   \n",
      "min        1.00000   1863.000000      0.000000      0.000000   \n",
      "25%     3780.75000   2376.000000     65.000000     10.000000   \n",
      "50%     7560.50000   2752.000000    126.000000     15.000000   \n",
      "75%    11340.25000   3104.000000    261.000000     22.000000   \n",
      "max    15120.00000   3849.000000    360.000000     52.000000   \n",
      "\n",
      "       Horizontal_Distance_To_Hydrology  Vertical_Distance_To_Hydrology  \\\n",
      "count                      15120.000000                    15120.000000   \n",
      "mean                         227.195701                       51.076521   \n",
      "std                          210.075296                       61.239406   \n",
      "min                            0.000000                     -146.000000   \n",
      "25%                           67.000000                        5.000000   \n",
      "50%                          180.000000                       32.000000   \n",
      "75%                          330.000000                       79.000000   \n",
      "max                         1343.000000                      554.000000   \n",
      "\n",
      "       Horizontal_Distance_To_Roadways  Hillshade_9am  Hillshade_Noon  \\\n",
      "count                     15120.000000   15120.000000    15120.000000   \n",
      "mean                       1714.023214     212.704299      218.965608   \n",
      "std                        1325.066358      30.561287       22.801966   \n",
      "min                           0.000000       0.000000       99.000000   \n",
      "25%                         764.000000     196.000000      207.000000   \n",
      "50%                        1316.000000     220.000000      223.000000   \n",
      "75%                        2270.000000     235.000000      235.000000   \n",
      "max                        6890.000000     254.000000      254.000000   \n",
      "\n",
      "       Hillshade_3pm  ...   Soil_Type32   Soil_Type33   Soil_Type34  \\\n",
      "count   15120.000000  ...  15120.000000  15120.000000  15120.000000   \n",
      "mean      135.091997  ...      0.045635      0.040741      0.001455   \n",
      "std        45.895189  ...      0.208699      0.197696      0.038118   \n",
      "min         0.000000  ...      0.000000      0.000000      0.000000   \n",
      "25%       106.000000  ...      0.000000      0.000000      0.000000   \n",
      "50%       138.000000  ...      0.000000      0.000000      0.000000   \n",
      "75%       167.000000  ...      0.000000      0.000000      0.000000   \n",
      "max       248.000000  ...      1.000000      1.000000      1.000000   \n",
      "\n",
      "        Soil_Type35   Soil_Type36   Soil_Type37   Soil_Type38   Soil_Type39  \\\n",
      "count  15120.000000  15120.000000  15120.000000  15120.000000  15120.000000   \n",
      "mean       0.006746      0.000661      0.002249      0.048148      0.043452   \n",
      "std        0.081859      0.025710      0.047368      0.214086      0.203880   \n",
      "min        0.000000      0.000000      0.000000      0.000000      0.000000   \n",
      "25%        0.000000      0.000000      0.000000      0.000000      0.000000   \n",
      "50%        0.000000      0.000000      0.000000      0.000000      0.000000   \n",
      "75%        0.000000      0.000000      0.000000      0.000000      0.000000   \n",
      "max        1.000000      1.000000      1.000000      1.000000      1.000000   \n",
      "\n",
      "        Soil_Type40    Cover_Type  \n",
      "count  15120.000000  15120.000000  \n",
      "mean       0.030357      4.000000  \n",
      "std        0.171574      2.000066  \n",
      "min        0.000000      1.000000  \n",
      "25%        0.000000      2.000000  \n",
      "50%        0.000000      4.000000  \n",
      "75%        0.000000      6.000000  \n",
      "max        1.000000      7.000000  \n",
      "\n",
      "[8 rows x 56 columns]\n",
      "Index(['Id', 'Elevation', 'Aspect', 'Slope',\n",
      "       'Horizontal_Distance_To_Hydrology', 'Vertical_Distance_To_Hydrology',\n",
      "       'Horizontal_Distance_To_Roadways', 'Hillshade_9am', 'Hillshade_Noon',\n",
      "       'Hillshade_3pm', 'Horizontal_Distance_To_Fire_Points',\n",
      "       'Wilderness_Area1', 'Wilderness_Area2', 'Wilderness_Area3',\n",
      "       'Wilderness_Area4', 'Soil_Type1', 'Soil_Type2', 'Soil_Type3',\n",
      "       'Soil_Type4', 'Soil_Type5', 'Soil_Type6', 'Soil_Type7', 'Soil_Type8',\n",
      "       'Soil_Type9', 'Soil_Type10', 'Soil_Type11', 'Soil_Type12',\n",
      "       'Soil_Type13', 'Soil_Type14', 'Soil_Type15', 'Soil_Type16',\n",
      "       'Soil_Type17', 'Soil_Type18', 'Soil_Type19', 'Soil_Type20',\n",
      "       'Soil_Type21', 'Soil_Type22', 'Soil_Type23', 'Soil_Type24',\n",
      "       'Soil_Type25', 'Soil_Type26', 'Soil_Type27', 'Soil_Type28',\n",
      "       'Soil_Type29', 'Soil_Type30', 'Soil_Type31', 'Soil_Type32',\n",
      "       'Soil_Type33', 'Soil_Type34', 'Soil_Type35', 'Soil_Type36',\n",
      "       'Soil_Type37', 'Soil_Type38', 'Soil_Type39', 'Soil_Type40',\n",
      "       'Cover_Type'],\n",
      "      dtype='object')\n",
      "data shape:  (15120, 54)\n",
      "label shape: (15120,)\n"
     ]
    }
   ],
   "source": [
    "data = pd.read_csv(\"train.csv\")\n",
    "print (data.describe())\n",
    "print (data.columns)\n",
    "scaler = MinMaxScaler()\n",
    "data['Elevation'] = scaler.fit_transform(data['Elevation'].values.reshape(-1,1))\n",
    "data['Aspect'] = scaler.fit_transform(data['Aspect'].values.reshape(-1,1))\n",
    "data['Slope'] = scaler.fit_transform(data['Slope'].values.reshape(-1,1))\n",
    "data['Horizontal_Distance_To_Hydrology'] = scaler.fit_transform(data['Horizontal_Distance_To_Hydrology'].values.reshape(-1,1))\n",
    "data['Vertical_Distance_To_Hydrology'] = scaler.fit_transform(data['Vertical_Distance_To_Hydrology'].values.reshape(-1,1))\n",
    "data['Horizontal_Distance_To_Roadways'] = scaler.fit_transform(data['Horizontal_Distance_To_Roadways'].values.reshape(-1,1))\n",
    "data['Hillshade_9am'] = scaler.fit_transform(data['Hillshade_9am'].values.reshape(-1,1))\n",
    "data['Hillshade_Noon'] = scaler.fit_transform(data['Hillshade_Noon'].values.reshape(-1,1))\n",
    "data['Hillshade_3pm'] = scaler.fit_transform(data['Hillshade_3pm'].values.reshape(-1,1))\n",
    "data['Horizontal_Distance_To_Fire_Points'] = scaler.fit_transform(data['Horizontal_Distance_To_Fire_Points'].values.reshape(-1,1))\n",
    "X = np.array(data.as_matrix(columns=data.columns[1:55]))\n",
    "Y = np.array(data[\"Cover_Type\"].tolist())\n",
    "\n",
    "shuffle = np.random.permutation(np.arange(X.shape[0]))\n",
    "X, Y = X[shuffle], Y[shuffle]\n",
    "print('data shape: ', X.shape)\n",
    "print('label shape:', Y.shape)\n",
    "test_data, test_labels = X[11000:], Y[11000:]\n",
    "dev_data, dev_labels = X[10000:11000], Y[10000:11000]\n",
    "train_data, train_labels = X[:10000], Y[:10000]"
   ]
  },
  {
   "cell_type": "code",
   "execution_count": 130,
   "metadata": {},
   "outputs": [
    {
     "name": "stdout",
     "output_type": "stream",
     "text": [
      "Accuray on dev set for k =  1  :  0.813\n",
      "              precision    recall  f1-score   support\n",
      "\n",
      "           1       0.68      0.66      0.67       137\n",
      "           2       0.72      0.61      0.66       148\n",
      "           3       0.83      0.80      0.82       150\n",
      "           4       0.88      0.93      0.90       139\n",
      "           5       0.82      0.90      0.86       126\n",
      "           6       0.80      0.85      0.83       148\n",
      "           7       0.92      0.93      0.93       152\n",
      "\n",
      "    accuracy                           0.81      1000\n",
      "   macro avg       0.81      0.81      0.81      1000\n",
      "weighted avg       0.81      0.81      0.81      1000\n",
      "\n",
      "Accuray on dev set for k =  3  :  0.79\n",
      "              precision    recall  f1-score   support\n",
      "\n",
      "           1       0.65      0.66      0.65       137\n",
      "           2       0.70      0.57      0.63       148\n",
      "           3       0.77      0.75      0.76       150\n",
      "           4       0.86      0.92      0.89       139\n",
      "           5       0.83      0.91      0.87       126\n",
      "           6       0.78      0.78      0.78       148\n",
      "           7       0.90      0.94      0.92       152\n",
      "\n",
      "    accuracy                           0.79      1000\n",
      "   macro avg       0.79      0.79      0.79      1000\n",
      "weighted avg       0.79      0.79      0.79      1000\n",
      "\n",
      "Accuray on dev set for k =  5  :  0.77\n",
      "              precision    recall  f1-score   support\n",
      "\n",
      "           1       0.65      0.66      0.65       137\n",
      "           2       0.69      0.57      0.62       148\n",
      "           3       0.72      0.70      0.71       150\n",
      "           4       0.83      0.95      0.89       139\n",
      "           5       0.82      0.89      0.85       126\n",
      "           6       0.75      0.74      0.75       148\n",
      "           7       0.91      0.89      0.90       152\n",
      "\n",
      "    accuracy                           0.77      1000\n",
      "   macro avg       0.77      0.77      0.77      1000\n",
      "weighted avg       0.77      0.77      0.77      1000\n",
      "\n",
      "Accuray on dev set for k =  7  :  0.771\n",
      "              precision    recall  f1-score   support\n",
      "\n",
      "           1       0.66      0.66      0.66       137\n",
      "           2       0.68      0.57      0.62       148\n",
      "           3       0.76      0.69      0.72       150\n",
      "           4       0.82      0.93      0.87       139\n",
      "           5       0.79      0.87      0.83       126\n",
      "           6       0.76      0.80      0.78       148\n",
      "           7       0.91      0.88      0.90       152\n",
      "\n",
      "    accuracy                           0.77      1000\n",
      "   macro avg       0.77      0.77      0.77      1000\n",
      "weighted avg       0.77      0.77      0.77      1000\n",
      "\n",
      "Accuray on dev set for k =  9  :  0.758\n",
      "              precision    recall  f1-score   support\n",
      "\n",
      "           1       0.64      0.64      0.64       137\n",
      "           2       0.65      0.55      0.60       148\n",
      "           3       0.74      0.65      0.70       150\n",
      "           4       0.80      0.94      0.86       139\n",
      "           5       0.80      0.87      0.83       126\n",
      "           6       0.74      0.78      0.76       148\n",
      "           7       0.90      0.89      0.90       152\n",
      "\n",
      "    accuracy                           0.76      1000\n",
      "   macro avg       0.75      0.76      0.76      1000\n",
      "weighted avg       0.75      0.76      0.75      1000\n",
      "\n"
     ]
    }
   ],
   "source": [
    "def KNN(k_values):\n",
    "\n",
    "### STUDENT START ###\n",
    "    for k_value in k_values:\n",
    "        model = KNeighborsClassifier(n_neighbors=k_value)\n",
    "        model.fit(train_data,train_labels)\n",
    "        predicted= model.predict(dev_data)\n",
    "        print ( 'Accuray on dev set for k = ' , k_value , \" : \" , model.score(dev_data , dev_labels))\n",
    "        print(classification_report(dev_labels, predicted))\n",
    "    \n",
    "### STUDENT END ###\n",
    "\n",
    "k_values = [1, 3, 5, 7, 9]\n",
    "KNN(k_values)"
   ]
  },
  {
   "cell_type": "code",
   "execution_count": 138,
   "metadata": {},
   "outputs": [
    {
     "name": "stdout",
     "output_type": "stream",
     "text": [
      "\u001b[1m Logistic Regression  \u001b[0;0m\n",
      "Best fit parameters :\n",
      "{'C': 10.0}\n",
      "Best fit model F1 score :\n",
      "0.66\n"
     ]
    }
   ],
   "source": [
    "\n",
    "    \n",
    "def logistic_regression(train_vector , train_labels , dev_vector , dev_labels ):\n",
    "    print ( \"\\033[1m\" ,  \"Logistic Regression \" , \"\\033[0;0m\" )\n",
    "    C_values= { 'C' : [ 0.01, 0.05 , 0.1,  1.0,10.0]}\n",
    "    grd_model = GridSearchCV( LogisticRegression(penalty='elasticnet', solver='saga' , l1_ratio =0),  param_grid = C_values ,return_train_score = 1)\n",
    "    grd_model.fit(train_vector,train_labels)\n",
    "    print (\"Best fit parameters :\")\n",
    "    print (grd_model.best_params_)\n",
    "    print (\"Best fit model F1 score :\")\n",
    "    predicted= grd_model.predict(dev_vector)\n",
    "    print(metrics.f1_score(dev_labels, predicted , average='micro'))\n",
    "warnings.filterwarnings(action='ignore')    \n",
    "logistic_regression(train_data , train_labels , dev_data , dev_labels )   "
   ]
  },
  {
   "cell_type": "code",
   "execution_count": 101,
   "metadata": {},
   "outputs": [
    {
     "name": "stdout",
     "output_type": "stream",
     "text": [
      "\u001b[1m Logistic Regression  \u001b[0;0m\n",
      "Best fit parameters :\n",
      "{'C': 10.0}\n",
      "Best fit model F1 score :\n",
      "0.615\n"
     ]
    }
   ],
   "source": [
    "pca = PCA(n_components=20)\n",
    "pca.fit(train_data)\n",
    "train_pca = pca.transform(train_data)\n",
    "dev_pca = pca.transform(dev_data)\n",
    "logistic_regression(train_pca , train_labels , dev_pca , dev_labels ) "
   ]
  },
  {
   "cell_type": "code",
   "execution_count": 126,
   "metadata": {},
   "outputs": [
    {
     "name": "stdout",
     "output_type": "stream",
     "text": [
      "Accuracy for MultinomialNB :\n",
      "0.564\n"
     ]
    }
   ],
   "source": [
    "def classify_multinomial(train_data , train_labels , dev_data , dev_labels ):\n",
    "    model_m = MultinomialNB(alpha = 1)\n",
    "    model_m.fit(train_data, train_labels)\n",
    "    print (\"Accuracy for MultinomialNB :\")\n",
    "    print(model_m.score(dev_data , dev_labels)) \n",
    "classify_multinomial(train_data , train_labels , dev_data , dev_labels )     "
   ]
  },
  {
   "cell_type": "code",
   "execution_count": 132,
   "metadata": {},
   "outputs": [
    {
     "name": "stdout",
     "output_type": "stream",
     "text": [
      "Best fit parameters :\n",
      "{'max_depth': 35, 'n_estimators': 25}\n",
      "Best fit model F1 score :\n",
      "0.843\n"
     ]
    }
   ],
   "source": [
    "def classify_random_forest (train_data , train_labels , dev_data , dev_labels  ):\n",
    "    C_values= { 'max_depth' : [20,25 , 35,40,50] , 'n_estimators' : [5,15,20,25] }\n",
    "    grd_model = GridSearchCV( RandomForestClassifier(random_state=0),  param_grid = C_values ,return_train_score = 1)\n",
    "    grd_model.fit(train_data,train_labels)\n",
    "    print (\"Best fit parameters :\")\n",
    "    print (grd_model.best_params_)\n",
    "    print (\"Best fit model F1 score :\")\n",
    "    predicted= grd_model.predict(dev_data)\n",
    "    print(metrics.f1_score(dev_labels, predicted , average='micro')) \n",
    "    return grd_model\n",
    "grd_model = classify_random_forest(train_data , train_labels , dev_data , dev_labels )  \n"
   ]
  },
  {
   "cell_type": "code",
   "execution_count": 152,
   "metadata": {},
   "outputs": [
    {
     "name": "stdout",
     "output_type": "stream",
     "text": [
      "Index(['Elevation', 'Horizontal_Distance_To_Roadways',\n",
      "       'Horizontal_Distance_To_Fire_Points',\n",
      "       'Horizontal_Distance_To_Hydrology', 'Wilderness_Area4', 'Hillshade_9am',\n",
      "       'Vertical_Distance_To_Hydrology', 'Aspect', 'Hillshade_3pm',\n",
      "       'Hillshade_Noon', 'Slope', 'Soil_Type10', 'Soil_Type3', 'Soil_Type39',\n",
      "       'Wilderness_Area1', 'Wilderness_Area3', 'Soil_Type38', 'Soil_Type4',\n",
      "       'Soil_Type40', 'Soil_Type2', 'Soil_Type13', 'Soil_Type30',\n",
      "       'Soil_Type17', 'Soil_Type22', 'Soil_Type29', 'Soil_Type23',\n",
      "       'Soil_Type32', 'Soil_Type12', 'Wilderness_Area2', 'Soil_Type33',\n",
      "       'Soil_Type11', 'Soil_Type31', 'Soil_Type24', 'Soil_Type35',\n",
      "       'Soil_Type6', 'Soil_Type1', 'Soil_Type20', 'Soil_Type5', 'Soil_Type16',\n",
      "       'Soil_Type26', 'Soil_Type37', 'Soil_Type18', 'Soil_Type14',\n",
      "       'Soil_Type19', 'Soil_Type34', 'Soil_Type21', 'Soil_Type36',\n",
      "       'Soil_Type27', 'Soil_Type28', 'Soil_Type9', 'Soil_Type25',\n",
      "       'Soil_Type15', 'Soil_Type8', 'Soil_Type7'],\n",
      "      dtype='object')\n",
      "0.8432038834951456\n"
     ]
    }
   ],
   "source": [
    "imp_feature = np.argsort(grd_model.best_estimator_.feature_importances_)[::-1] + 1\n",
    "print (data.columns[imp_feature])\n",
    "predicted= grd_model.predict(test_data)\n",
    "print(metrics.f1_score(test_labels, predicted , average='micro')) "
   ]
  },
  {
   "cell_type": "code",
   "execution_count": null,
   "metadata": {},
   "outputs": [],
   "source": []
  }
 ],
 "metadata": {
  "kernelspec": {
   "display_name": "Python 3",
   "language": "python",
   "name": "python3"
  },
  "language_info": {
   "codemirror_mode": {
    "name": "ipython",
    "version": 3
   },
   "file_extension": ".py",
   "mimetype": "text/x-python",
   "name": "python",
   "nbconvert_exporter": "python",
   "pygments_lexer": "ipython3",
   "version": "3.7.3"
  }
 },
 "nbformat": 4,
 "nbformat_minor": 2
}
